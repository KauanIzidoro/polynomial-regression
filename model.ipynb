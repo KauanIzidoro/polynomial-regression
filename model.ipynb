{
  "nbformat": 4,
  "nbformat_minor": 0,
  "metadata": {
    "colab": {
      "provenance": [],
      "authorship_tag": "ABX9TyPTtvGtz6iaA3+MZX4iCd29",
      "include_colab_link": true
    },
    "kernelspec": {
      "name": "python3",
      "display_name": "Python 3"
    },
    "language_info": {
      "name": "python"
    }
  },
  "cells": [
    {
      "cell_type": "markdown",
      "metadata": {
        "id": "view-in-github",
        "colab_type": "text"
      },
      "source": [
        "<a href=\"https://colab.research.google.com/github/KauanIzidoro/toughness-modulus-ia/blob/main/model.ipynb\" target=\"_parent\"><img src=\"https://colab.research.google.com/assets/colab-badge.svg\" alt=\"Open In Colab\"/></a>"
      ]
    },
    {
      "cell_type": "markdown",
      "source": [
        "## Application of __Polynomial Regression__ to stress-strain curve interpolation to determine the tenacity modulus\n",
        "\n",
        "### Student:\n",
        "\n",
        "<img src=\"https://cdn.discordapp.com/attachments/1207816111920513064/1315496299336040498/38a6f0f2-a02d-4017-be29-787f12ecef46.jpg?ex=67579ee6&is=67564d66&hm=9e8aa6d5dabdcc620716c52b45627a252454f50bea386c7746c55501d8a80aa7&\" width=\"100\" style=\"float: left; margin-right: 5px;\" border=\"5px\" />\n",
        "\n",
        "  __Kauan H. S. Izidoro__ <br>\n",
        "  [Faculade SENAI Sorocaba](https://sp.senai.br/unidade/sorocaba/) <br>\n"
      ],
      "metadata": {
        "id": "xcUc8iCXOQdl"
      }
    },
    {
      "cell_type": "code",
      "execution_count": null,
      "metadata": {
        "id": "FC54cDr_MeAD"
      },
      "outputs": [],
      "source": []
    }
  ]
}